{
  "cells": [
    {
      "cell_type": "markdown",
      "metadata": {},
      "source": [
        "# Zero-Shot Object Detection & Segmentation with Google Gemini\n\n",
        "[![Open In Colab](https://colab.research.google.com/assets/colab-badge.svg)](https://colab.research.google.com/github/aminhaghii/zero_shot_object_detection_and_segmentation_with_google_gamini_2_5/blob/main/zero_shot_object_detection_and_segmentation_with_google_gamini_2_5.ipynb)\n",
        "[![Open in Kaggle](https://img.shields.io/badge/Open%20in-Kaggle-20BEFF?logo=kaggle&logoColor=white)](https://kaggle.com/kernels/welcome?src=https://raw.githubusercontent.com/aminhaghii/zero_shot_object_detection_and_segmentation_with_google_gamini_2_5/main/zero_shot_object_detection_and_segmentation_with_google_gamini_2_5.ipynb)\n\n",
        "Note: This notebook is English-only. Set your GEMINI_API_KEY as an environment variable before running."
      ]
    },
    {
      "cell_type": "markdown",
      "metadata": {},
      "source": [
        "## Environment setup"
      ]
    },
    {
      "cell_type": "code",
      "execution_count": 1,
      "metadata": {},
      "outputs": [],
      "source": [
        "!pip install --quiet google-genai supervision pillow"
      ]
    },
    {
      "cell_type": "markdown",
      "metadata": {},
      "source": [
        "### Download example data"
      ]
    },
    {
      "cell_type": "markdown",
      "metadata": {},
      "source": [
        "## Initialize Gemini API client\n\n",
        "This section creates a `genai.Client` instance using your Google API key and sets up safety filters to block potentially dangerous content when generating results with Gemini 2.5."
      ]
    },
    {
      "cell_type": "markdown",
      "metadata": {},
      "source": [
        "## Prompt image for object detection"
      ]
    },
    {
      "cell_type": "code",
      "execution_count": 2,
      "metadata": {},
      "outputs": [],
      "source": [
        "import os\n",
        "from google import genai\n",
        "from google.genai import types\n",
        "from PIL import Image\n\n",
      
        "API_KEY = os.getenv('GEMINI_API_KEY', 'YOUR_API_KEY_HERE')  # Replace if not using env variable\n",
        "client = genai.Client(api_key=API_KEY)\n\n",
        "MODEL_NAME = \"gemini-2.5-pro\"\n",
        "TEMPERATURE = 0.5\n\n",
        "# Safety prompt for workplace analysis\n",
        "PROMPT = '''\n",
        "Analyze this image strictly from a workplace safety perspective:\n",
        "- Identify hazards or unsafe behaviors\n",
        "- Check compliance with OSHA and HSE rules\n",
        "- Verify correct use of PPE (gloves, goggles, hardhat, suit, etc.)\n",
        "- Highlight missing safety elements\n",
        "- Provide a professional safety recommendation report\n",
        "'''\n\n",
      
        "safety_settings = [\n",
        "    types.SafetySetting(\n",
        "        category=\"HARM_CATEGORY_DANGEROUS_CONTENT\",\n",
        "        threshold=\"BLOCK_ONLY_HIGH\",\n",
        "    ),\n",
        "]\n\n",
    
        "IMAGE_PATH = \"/content/behavior-based-safety-program.jpeg\"  # Update path if needed\n",
        "image = Image.open(IMAGE_PATH)\n\n",
        "# Resize image while keeping aspect ratio\n",
        "width, height = image.size\n",
        "target_height = int(1024 * height / width)\n",
        "resized_image = image.resize((1024, target_height), Image.Resampling.LANCZOS)\n\n",
      
        "response = client.models.generate_content(\n",
        "    model=MODEL_NAME,\n",
        "    contents=[resized_image, PROMPT],\n",
        "    config=types.GenerateContentConfig(\n",
        "        temperature=TEMPERATURE,\n",
        "        safety_settings=safety_settings,\n",
        "        thinking_config=types.ThinkingConfig(thinking_budget=512),\n",
        "    ),\n",
        ")\n\n",
    
        "print(response.text)"
      ]
    }
  ],
  "metadata": {
    "kernelspec": {
      "display_name": "Python 3",
      "name": "python3"
    },
    "language_info": {
      "name": "python"
    }
  },
  "nbformat": 4,
  "nbformat_minor": 0
}
