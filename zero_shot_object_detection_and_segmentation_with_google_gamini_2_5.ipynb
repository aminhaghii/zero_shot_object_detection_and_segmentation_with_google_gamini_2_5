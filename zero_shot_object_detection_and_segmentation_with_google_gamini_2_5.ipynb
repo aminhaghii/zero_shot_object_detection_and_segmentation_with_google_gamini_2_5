{
  "cells": [
    {
      "cell_type": "markdown",
      "metadata": {},
      "source": [
        "# Zero\u0011Shot Object Detection & Segmentation with Google Gemini\n\n[![Open In Colab](https://colab.research.google.com/assets/colab-badge.svg)](https://colab.research.google.com/github/aminhaghii/zero_shot_object_detection_and_segmentation_with_google_gamini_2_5/blob/main/zero_shot_object_detection_and_segmentation_with_google_gamini_2_5.ipynb)\n[![Open in Kaggle](https://img.shields.io/badge/Open%20in-Kaggle-20BEFF?logo=kaggle&logoColor=white)](https://kaggle.com/kernels/welcome?src=https://raw.githubusercontent.com/aminhaghii/zero_shot_object_detection_and_segmentation_with_google_gamini_2_5/main/zero_shot_object_detection_and_segmentation_with_google_gamini_2_5.ipynb)\n\nNote: This notebook is English-only. Set your GEMINI_API_KEY as an environment variable before running.\n"
      ]
    },
    {
      "cell_type": "markdown",
      "metadata": {
        "id": "IZuWtSV_Dtxh"
      },
      "source": [
        "## Environment setup"
      ]
    },
    {
      "cell_type": "code",
      "execution_count": 1,
      "metadata": {
        "id": "lUBsgNCYEbxI",
        "colab": {
          "base_uri": "https://localhost:8080/"
        },
        "outputId": "c632e3a2-1795-480e-f90e-8260de79acef"
      },
      "outputs": [
        {
          "output_type": "stream",
          "name": "stdout",
          "text": [
            "Requirement already satisfied: google-genai in /usr/local/lib/python3.12/dist-packages (1.32.0)\n",
            "Collecting supervision\n",
            "  Downloading supervision-0.26.1-py3-none-any.whl.metadata (13 kB)\n",
            "Requirement already satisfied: anyio<5.0.0,>=4.8.0 in /usr/local/lib/python3.12/dist-packages (from google-genai) (4.10.0)\n",
            "Requirement already satisfied: google-auth<3.0.0,>=2.14.1 in /usr/local/lib/python3.12/dist-packages (from google-genai) (2.38.0)\n",
            "Requirement already satisfied: httpx<1.0.0,>=0.28.1 in /usr/local/lib/python3.12/dist-packages (from google-genai) (0.28.1)\n",
            "Requirement already satisfied: pydantic<3.0.0,>=2.0.0 in /usr/local/lib/python3.12/dist-packages (from google-genai) (2.11.7)\n",
            "Requirement already satisfied: requests<3.0.0,>=2.28.1 in /usr/local/lib/python3.12/dist-packages (from google-genai) (2.32.4)\n",
            "Requirement already satisfied: tenacity<9.2.0,>=8.2.3 in /usr/local/lib/python3.12/dist-packages (from google-genai) (8.5.0)\n",
            "Requirement already satisfied: websockets<15.1.0,>=13.0.0 in /usr/local/lib/python3.12/dist-packages (from google-genai) (15.0.1)\n",
            "Requirement already satisfied: typing-extensions<5.0.0,>=4.11.0 in /usr/local/lib/python3.12/dist-packages (from google-genai) (4.15.0)\n",
            "Requirement already satisfied: numpy>=1.21.2 in /usr/local/lib/python3.12/dist-packages (from supervision) (2.0.2)\n",
            "Requirement already satisfied: scipy>=1.10.0 in /usr/local/lib/python3.12/dist-packages (from supervision) (1.16.1)\n",
            "Requirement already satisfied: matplotlib>=3.6.0 in /usr/local/lib/python3.12/dist-packages (from supervision) (3.10.0)\n",
            "Requirement already satisfied: pyyaml>=5.3 in /usr/local/lib/python3.12/dist-packages (from supervision) (6.0.2)\n",
            "Requirement already satisfied: defusedxml>=0.7.1 in /usr/local/lib/python3.12/dist-packages (from supervision) (0.7.1)\n",
            "Requirement already satisfied: pillow>=9.4 in /usr/local/lib/python3.12/dist-packages (from supervision) (11.3.0)\n",
            "Requirement already satisfied: tqdm>=4.62.3 in /usr/local/lib/python3.12/dist-packages (from supervision) (4.67.1)\n",
            "Requirement already satisfied: opencv-python>=4.5.5.64 in /usr/local/lib/python3.12/dist-packages (from supervision) (4.12.0.88)\n",
            "Requirement already satisfied: idna>=2.8 in /usr/local/lib/python3.12/dist-packages (from anyio<5.0.0,>=4.8.0->google-genai) (3.10)\n",
            "Requirement already satisfied: sniffio>=1.1 in /usr/local/lib/python3.12/dist-packages (from anyio<5.0.0,>=4.8.0->google-genai) (1.3.1)\n",
            "Requirement already satisfied: cachetools<6.0,>=2.0.0 in /usr/local/lib/python3.12/dist-packages (from google-auth<3.0.0,>=2.14.1->google-genai) (5.5.2)\n",
            "Requirement already satisfied: pyasn1-modules>=0.2.1 in /usr/local/lib/python3.12/dist-packages (from google-auth<3.0.0,>=2.14.1->google-genai) (0.4.2)\n",
            "Requirement already satisfied: rsa<5,>=3.1.4 in /usr/local/lib/python3.12/dist-packages (from google-auth<3.0.0,>=2.14.1->google-genai) (4.9.1)\n",
            "Requirement already satisfied: certifi in /usr/local/lib/python3.12/dist-packages (from httpx<1.0.0,>=0.28.1->google-genai) (2025.8.3)\n",
            "Requirement already satisfied: httpcore==1.* in /usr/local/lib/python3.12/dist-packages (from httpx<1.0.0,>=0.28.1->google-genai) (1.0.9)\n",
            "Requirement already satisfied: h11>=0.16 in /usr/local/lib/python3.12/dist-packages (from httpcore==1.*->httpx<1.0.0,>=0.28.1->google-genai) (0.16.0)\n",
            "Requirement already satisfied: contourpy>=1.0.1 in /usr/local/lib/python3.12/dist-packages (from matplotlib>=3.6.0->supervision) (1.3.3)\n",
            "Requirement already satisfied: cycler>=0.10 in /usr/local/lib/python3.12/dist-packages (from matplotlib>=3.6.0->supervision) (0.12.1)\n",
            "Requirement already satisfied: fonttools>=4.22.0 in /usr/local/lib/python3.12/dist-packages (from matplotlib>=3.6.0->supervision) (4.59.2)\n",
            "Requirement already satisfied: kiwisolver>=1.3.1 in /usr/local/lib/python3.12/dist-packages (from matplotlib>=3.6.0->supervision) (1.4.9)\n",
            "Requirement already satisfied: packaging>=20.0 in /usr/local/lib/python3.12/dist-packages (from matplotlib>=3.6.0->supervision) (25.0)\n",
            "Requirement already satisfied: pyparsing>=2.3.1 in /usr/local/lib/python3.12/dist-packages (from matplotlib>=3.6.0->supervision) (3.2.3)\n",
            "Requirement already satisfied: python-dateutil>=2.7 in /usr/local/lib/python3.12/dist-packages (from matplotlib>=3.6.0->supervision) (2.9.0.post0)\n",
            "Requirement already satisfied: annotated-types>=0.6.0 in /usr/local/lib/python3.12/dist-packages (from pydantic<3.0.0,>=2.0.0->google-genai) (0.7.0)\n",
            "Requirement already satisfied: pydantic-core==2.33.2 in /usr/local/lib/python3.12/dist-packages (from pydantic<3.0.0,>=2.0.0->google-genai) (2.33.2)\n",
            "Requirement already satisfied: typing-inspection>=0.4.0 in /usr/local/lib/python3.12/dist-packages (from pydantic<3.0.0,>=2.0.0->google-genai) (0.4.1)\n",
            "Requirement already satisfied: charset_normalizer<4,>=2 in /usr/local/lib/python3.12/dist-packages (from requests<3.0.0,>=2.28.1->google-genai) (3.4.3)\n",
            "Requirement already satisfied: urllib3<3,>=1.21.1 in /usr/local/lib/python3.12/dist-packages (from requests<3.0.0,>=2.28.1->google-genai) (2.5.0)\n",
            "Requirement already satisfied: pyasn1<0.7.0,>=0.6.1 in /usr/local/lib/python3.12/dist-packages (from pyasn1-modules>=0.2.1->google-auth<3.0.0,>=2.14.1->google-genai) (0.6.1)\n",
            "Requirement already satisfied: six>=1.5 in /usr/local/lib/python3.12/dist-packages (from python-dateutil>=2.7->matplotlib>=3.6.0->supervision) (1.17.0)\n",
            "Downloading supervision-0.26.1-py3-none-any.whl (207 kB)\n",
            "\u001b[2K   \u001b[90m━━━━━━━━━━━━━━━━━━━━━━━━━━━━━━━━━━━━━━━━\u001b[0m \u001b[32m207.2/207.2 kB\u001b[0m \u001b[31m6.7 MB/s\u001b[0m eta \u001b[36m0:00:00\u001b[0m\n",
            "\u001b[?25hInstalling collected packages: supervision\n",
            "Successfully installed supervision-0.26.1\n"
          ]
        }
      ],
      "source": [
        "!pip install google-genai supervision"
      ]
    },
    {
      "cell_type": "markdown",
      "metadata": {
        "id": "6RaxB7xHHKnU"
      },
      "source": [
        "### Download example data"
      ]
    },
    {
      "cell_type": "markdown",
      "metadata": {
        "id": "2-_uxYFtbu4c"
      },
      "source": [
        "## Initialize Gemini API client\n",
        "\n",
        "This section creates a `genai.Client` instance using your Google API key and sets up safety filters to block potentially dangerous content when generating results with Gemini 2.5."
      ]
    },
    {
      "cell_type": "markdown",
      "metadata": {
        "id": "xdXXF4rGb849"
      },
      "source": [
        "## Prompt image for object detection\n",
        "\n"
      ]
    },
    {
      "cell_type": "code",
      "execution_count": 39,
      "metadata": {
        "colab": {
          "base_uri": "https://localhost:8080/"
        },
        "id": "TcJ9AvwNiEeP",
        "outputId": "30aa38bf-043d-4ce7-ee6d-45300b748f83"
      },
      "outputs": [
        {
          "output_type": "stream",
          "name": "stdout",
          "text": [
            "Based on a strict analysis of the provided image from a workplace safety perspective, here is a professional safety recommendation report.\n",
            "\n",
            "---\n",
            "\n",
            "### **Workplace Safety Observation Report**\n",
            "\n",
            "**Date of Observation:** October 26, 2023\n",
            "**Location:** Machine Shop / Fabrication Area\n",
            "**Activity Observed:** Operator using a stationary abrasive cut-off saw to cut metal stock.\n",
            "\n",
            "---\n",
            "\n",
            "### **1. Executive Summary**\n",
            "\n",
            "This report details a safety analysis of an operator using a cut-off saw. The operator demonstrates a strong commitment to personal protective equipment (PPE), wearing appropriate head, eye, hearing, and hand protection. However, significant hazards were identified related to the machine's guarding, the operator's posture, and potential fire risks. Immediate corrective actions are required to mitigate the risk of serious injury, including machine guarding improvements and operator retraining on safe body positioning.\n",
            "\n",
            "---\n",
            "\n",
            "### **2. Analysis of Personal Protective Equipment (PPE)**\n",
            "\n",
            "The operator's use of PPE is commendable and largely compliant with standard safety protocols.\n",
            "\n",
            "*   **Hard Hat:** **COMPLIANT.** The operator is wearing a yellow hard hat, which is appropriate for a workshop environment where overhead hazards may exist.\n",
            "*   **Eye Protection:** **COMPLIANT.** The operator is wearing safety glasses. This provides a primary level of protection from flying debris.\n",
            "    *   *Observation:* While compliant, a full-face shield worn over the safety glasses would offer superior protection against high-velocity particles and sparks, which are common in this type of cutting operation.\n",
            "*   **Hearing Protection:** **COMPLIANT.** The operator is wearing earmuffs, which is essential protection from the high noise levels generated by abrasive cutting.\n",
            "*   **Gloves:** **PARTIALLY COMPLIANT / POTENTIAL HAZARD.** The operator is wearing white, possibly cotton or fabric, gloves.\n",
            "    *   *Hazard:* Fabric gloves can easily get caught in rotating machinery, pulling the operator's hand into the blade. This is a significant entanglement hazard.\n",
            "    *   *Recommendation:* For operating rotating equipment, either no gloves should be worn, or specialized, non-entangling gloves (e.g., tight-fitting leather or cut-resistant gloves that are not loose) should be used, based on a thorough risk assessment.\n",
            "*   **Work Suit/Coveralls:** **COMPLIANT.** The operator is wearing long-sleeved coveralls, which protect the skin from sparks, hot metal fragments, and debris. The fit appears appropriate, without loose, dangling parts that could cause entanglement.\n",
            "\n",
            "---\n",
            "\n",
            "### **3. Identification of Hazards and Unsafe Conditions**\n",
            "\n",
            "Several critical hazards were identified with the equipment and the operator's technique.\n",
            "\n",
            "*   **Inadequate Machine Guarding (CRITICAL HAZARD):**\n",
            "    *   The primary safety guard on the cut-off saw appears to be fixed in a retracted position or is improperly sized, leaving a large portion of the rotating abrasive blade exposed. Per **OSHA 29 CFR 1910.212(a)(1)**, machine guards must be in place to protect the operator and others from hazards such as rotating parts, flying chips, and sparks. The current state of the guard is a major violation and poses a severe risk of laceration, amputation, or projectile injuries.\n",
            "*   **Operator Posture and Body Positioning (SERIOUS HAZARD):**\n",
            "    *   The operator is leaning directly over the machine and is positioned in the \"line of fire.\" If the cutting wheel were to shatter—a known risk with abrasive discs—fragments would be projected directly at the operator's head and upper body. Safe practice dictates standing to the side of the cutting plane.\n",
            "*   **Lack of Spark/Debris Containment:**\n",
            "    *   The image does not show any specific measures (like a spark arrestor, deflector, or fire-resistant curtain) to contain the stream of hot sparks being generated. This creates a significant fire hazard, especially if flammable materials are present in the surrounding area.\n",
            "*   **Workpiece Securing:**\n",
            "    *   While the operator is turning a handle that appears to be part of a vise or clamp, it is not possible to confirm if the workpiece is adequately secured. An improperly secured workpiece can be violently ejected by the saw blade, becoming a dangerous projectile.\n",
            "\n",
            "---\n",
            "\n",
            "### **4. Missing Safety Elements**\n",
            "\n",
            "*   **Functional Blade Guard:** The most critical missing element is a fully functional, self-adjusting guard that covers the blade as much as possible throughout the cutting operation.\n",
            "*   **Emergency Stop (E-Stop):** No visible E-Stop button is readily accessible to the operator. For machinery of this type, an E-Stop is a crucial safety feature for immediate shutdown in an emergency.\n",
            "*   **Fire Extinguisher:** A suitable fire extinguisher (e.g., Class D for combustible metals, or ABC for general use) should be located within easy reach of the workstation.\n",
            "*   **Face Shield:** As mentioned, a face shield would provide a higher level of protection than safety glasses alone.\n",
            "\n",
            "---\n",
            "\n",
            "### **5. Professional Safety Recommendations**\n",
            "\n",
            "To address the identified hazards and ensure compliance with OSHA and HSE standards, the following actions are recommended:\n",
            "\n",
            "1.  **Immediate Action - Cease Operation:** The machine must be immediately taken out of service (\"locked out/tagged out\") until the guarding issue is rectified.\n",
            "2.  **Machine Guarding Repair/Replacement:** Repair or replace the blade guard to ensure it is fully functional and complies with **OSHA 1910.212** standards. The guard should automatically adjust to cover the blade as it moves through its cutting motion.\n",
            "3.  **Operator Retraining:** Conduct mandatory retraining for all personnel authorized to use this equipment. The training must emphasize:\n",
            "    *   The importance of standing outside the \"line of fire.\"\n",
            "    *   Proper procedures for securing the workpiece.\n",
            "    *   The correct selection and use of gloves to avoid entanglement.\n",
            "    *   Pre-operational inspection of the machine, including guards and the abrasive wheel itself (ring test).\n",
            "4.  **Work Area Assessment:**\n",
            "    *   Install spark deflectors or fire-resistant blankets to control the direction of sparks.\n",
            "    *   Ensure the area is free of flammable materials and that an appropriate fire extinguisher is clearly marked and accessible.\n",
            "5.  **PPE Policy Review:** Update the site's PPE policy to require the use of a full-face shield in addition to safety glasses for all abrasive cutting operations. Review and specify the appropriate type of gloves for this task.\n",
            "6.  **Engineering Controls:** If not already present, install a clearly marked, easily accessible Emergency Stop button on the machine.\n",
            "\n",
            "By implementing these recommendations, the risk of serious injury or a fire incident can be significantly reduced, bringing the operation into compliance with fundamental workplace safety standards.\n"
          ]
        }
      ],
      "source": [
        "import os\n",
        "from google import genai\n",
        "from google.genai import types\n",
        "from PIL import Image\n",
        "\n",
        "API_KEY = \"" #change it with your out api key\n",
        "client = genai.Client(api_key=API_KEY)\n",
        "\n",
        "MODEL_NAME = \"gemini-2.5-pro\"\n",
        "PROMPT = \"\"\"\n",
        "Analyze this image strictly from a workplace safety perspective.\n",
        "- Identify hazards or unsafe behaviors\n",
        "- Check compliance with OSHA and HSE rules\n",
        "- Verify correct use of PPE (gloves, goggles, hardhat, suit, etc.)\n",
        "- Highlight missing safety elements\n",
        "- Provide a professional safety recommendation report\n",
        "\"\"\"\n",
        "TEMPERATURE = 0.5\n",
        "\n",
        "safety_settings = [\n",
        "    types.SafetySetting(\n",
        "        category=\"HARM_CATEGORY_DANGEROUS_CONTENT\",\n",
        "        threshold=\"BLOCK_ONLY_HIGH\",\n",
        "    ),\n",
        "]\n",
        "\n",
        "IMAGE_PATH = \"/content/behavior-based-safety-program.jpeg\"\n",
        "image = Image.open(IMAGE_PATH)\n",
        "width, height = image.size\n",
        "target_height = int(1024 * height / width)\n",
        "resized_image = image.resize((1024, target_height), Image.Resampling.LANCZOS)\n",
        "\n",
        "response = client.models.generate_content(\n",
        "    model=MODEL_NAME,\n",
        "    contents=[resized_image, PROMPT],\n",
        "    config=types.GenerateContentConfig(\n",
        "        temperature=TEMPERATURE,\n",
        "        safety_settings=safety_settings,\n",
        "        thinking_config=types.ThinkingConfig(\n",
        "            thinking_budget=512   # reasoning متوسط\n",
        "        ),\n",
        "    ),\n",
        ")\n",
        "\n",
        "print(response.text)\n"
      ]
    }
  ],
  "metadata": {
    "colab": {
      "provenance": []
    },
    "kernelspec": {
      "display_name": "Python 3",
      "name": "python3"
    },
    "language_info": {
      "name": "python"
    }
  },
  "nbformat": 4,
  "nbformat_minor": 0
}
